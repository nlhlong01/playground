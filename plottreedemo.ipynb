{
 "metadata": {
  "language_info": {
   "codemirror_mode": {
    "name": "ipython",
    "version": 3
   },
   "file_extension": ".py",
   "mimetype": "text/x-python",
   "name": "python",
   "nbconvert_exporter": "python",
   "pygments_lexer": "ipython3",
   "version": "3.8.3-final"
  },
  "orig_nbformat": 2,
  "kernelspec": {
   "name": "python38232bitee02afd150f3487890c487ec0dc226e2",
   "display_name": "Python 3.8.2 32-bit",
   "language": "python"
  }
 },
 "nbformat": 4,
 "nbformat_minor": 2,
 "cells": [
  {
   "cell_type": "code",
   "execution_count": null,
   "metadata": {},
   "outputs": [],
   "source": [
    "from sklearn import tree\n",
    "from matplotlib import pyplot as plt\n",
    "from sklearn.datasets import make_regression, load_iris"
   ]
  },
  {
   "cell_type": "code",
   "execution_count": null,
   "metadata": {},
   "outputs": [],
   "source": [
    "clf = tree.DecisionTreeClassifier(random_state=0)\n",
    "regr = tree.DecisionTreeRegressor(random_state=0)\n",
    "iris = load_iris()\n",
    "\n",
    "clf = clf.fit(iris.data, iris.target)\n",
    "regr = regr.fit(iris.data, iris.target)\n",
    "tree.plot_tree(regr, filled=True, rounded=True)\n",
    "plt.show()\n",
    "tree.plot_tree(clf, filled=True, rounded=True)\n",
    "plt.show()"
   ]
  },
  {
   "cell_type": "code",
   "execution_count": null,
   "metadata": {},
   "outputs": [],
   "source": [
    "regr = tree.DecisionTreeRegressor(random_state=0, max_depth=3)\n",
    "X, y = make_regression(n_samples=300, n_features=2)\n",
    "\n",
    "regr = regr.fit(X, y)\n",
    "tree.plot_tree(regr, filled=True, proportion=True, rounded=True)\n",
    "plt.show()"
   ]
  },
  {
   "cell_type": "code",
   "execution_count": null,
   "metadata": {},
   "outputs": [],
   "source": []
  }
 ]
}